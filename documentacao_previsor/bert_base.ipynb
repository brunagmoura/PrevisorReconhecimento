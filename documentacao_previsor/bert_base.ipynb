{
 "cells": [
  {
   "metadata": {},
   "cell_type": "markdown",
   "source": "## BERTopic",
   "id": "fca10edf27bd7de9"
  },
  {
   "metadata": {},
   "cell_type": "markdown",
   "source": "### Bibliotecas",
   "id": "f4a5ae8aeccb13e"
  },
  {
   "cell_type": "code",
   "id": "initial_id",
   "metadata": {
    "collapsed": true,
    "tags": [
     "hide-input"
    ],
    "ExecuteTime": {
     "end_time": "2024-10-26T00:17:07.017537Z",
     "start_time": "2024-10-26T00:16:46.933259Z"
    }
   },
   "source": [
    "#Bibliotecas\n",
    "\n",
    "import pandas as pd\n",
    "import re\n",
    "from bertopic import BERTopic\n",
    "import warnings\n",
    "import nltk\n",
    "from nltk.corpus import stopwords\n",
    "import itertools\n",
    "import os\n",
    "os.environ[\"TOKENIZERS_PARALLELISM\"] = \"false\"\n",
    "import matplotlib\n",
    "import matplotlib.pyplot as plt\n",
    "from umap import UMAP\n",
    "\n",
    "#Estilizar conteúdo\n",
    "warnings.filterwarnings('ignore')\n",
    "\n",
    "pd.set_option('display.max_rows', None)\n",
    "pd.set_option('display.max_columns', None)\n",
    "\n",
    "def estilo_tabelas(df, max_altura='300px', casas_decimais=2):\n",
    "    return (\n",
    "        df.style.set_table_styles(\n",
    "            [\n",
    "                {'selector': 'thead th', 'props': [('font-size', '12px'), ('text-align', 'center'), ('border-bottom', '2px solid #007BFF')]},\n",
    "                {'selector': 'td', 'props': [('font-size', '10px'), ('text-align', 'center'), ('max-height', '40px'), ('white-space', 'nowrap'), ('text-overflow', 'ellipsis'), ('overflow', 'hidden'), ('max-width', '100px')]},\n",
    "                {'selector': 'tr:nth-child(odd)', 'props': [('background-color', '#ffffff')]},\n",
    "                {'selector': 'table', 'props': [('width', '90%'), ('margin-left', 'auto'), ('margin-right', 'auto'), ('border-collapse', 'collapse')]},\n",
    "                {'selector': 'td, th', 'props': [('border', '1px solid #666')]},\n",
    "            ]\n",
    "        ).set_properties(\n",
    "            **{'border-color': 'darkgray', 'border-style': 'solid', 'border-width': '1px'}\n",
    "        ).set_table_attributes(\n",
    "            f'style=\"height:auto; overflow:auto; max-height:{max_altura}; display:block;\"'  \n",
    "        ).format(\n",
    "            precision=casas_decimais  \n",
    "        )\n",
    "    )"
   ],
   "outputs": [],
   "execution_count": 1
  },
  {
   "metadata": {},
   "cell_type": "markdown",
   "source": "### Base de dados",
   "id": "31693af69c3eef21"
  },
  {
   "metadata": {
    "tags": [
     "hide-input"
    ],
    "ExecuteTime": {
     "end_time": "2024-10-26T00:17:16.028469Z",
     "start_time": "2024-10-26T00:17:07.017537Z"
    }
   },
   "cell_type": "code",
   "source": [
    "object_columns = ['Protocolo_S2iD', 'Nome_Municipio', 'Sigla_UF', 'regiao',\n",
    "                  'Setores Censitários', 'Status', 'DH_Descricao', 'DM_Descricao',\n",
    "                  'DA_Descricao', 'DA_Polui/cont da água', 'DA_Polui/cont do ar',\n",
    "                  'DA_Polui/cont do solo', 'DA_Dimi/exauri hídrico',\n",
    "                  \"DA_Incêndi parques/APA's/APP's\", 'PEPL_Descricao', 'PEPR_Descricao',\n",
    "                  'Categoria', 'Grupo', 'Subgrupo', 'Tipo', 'Subtipo']\n",
    "\n",
    "dtype = {col: 'object' for col in object_columns}\n",
    "\n",
    "df_eventos = pd.read_csv(\n",
    "    \"https://raw.githubusercontent.com/brunagmoura/PrevisorReconhecimento/refs/heads/main/df_eventos_desastres_rec_nrec.csv\",\n",
    "    sep=';',\n",
    "    decimal=',',\n",
    "    dtype=dtype)\n",
    "\n",
    "colunas_descr = ['Status', 'DM_Descricao', 'DA_Descricao', 'PEPL_Descricao', 'PEPR_Descricao', 'DH_Descricao']\n",
    "\n",
    "df_eventos_descr = df_eventos[colunas_descr].fillna(' ').copy()"
   ],
   "id": "2de02b1fa5efa98a",
   "outputs": [],
   "execution_count": 2
  },
  {
   "metadata": {},
   "cell_type": "markdown",
   "source": "### Pré-processamento dos dados",
   "id": "1758daa8a379bc6b"
  },
  {
   "metadata": {
    "tags": [
     "hide-input"
    ],
    "ExecuteTime": {
     "end_time": "2024-10-26T00:17:20.909537Z",
     "start_time": "2024-10-26T00:17:16.028469Z"
    }
   },
   "cell_type": "code",
   "source": [
    "# Baixar stopwords em português\n",
    "nltk.download('stopwords')\n",
    "stopwords_pt = stopwords.words('portuguese')\n",
    "\n",
    "# Função para pré-processamento de texto\n",
    "def preprocess_text(text):\n",
    "    text = text.lower()\n",
    "    text = re.sub(r'\\d+', '', text)  # Remover números\n",
    "    text = re.sub(r'[^a-zA-Z\\s]', '', text)  # Remover caracteres especiais\n",
    "    text = ' '.join([word for word in text.split() if word not in stopwords_pt])  # Remover stopwords\n",
    "    return text\n",
    "\n",
    "# Transformando descrições em listas e removendo strings vazias\n",
    "lista_dm = [desc for desc in df_eventos_descr['DM_Descricao'].values.tolist() if desc]\n",
    "lista_da = [desc for desc in df_eventos_descr['DA_Descricao'].values.tolist() if desc]\n",
    "lista_pepl = [desc for desc in df_eventos_descr['PEPL_Descricao'].values.tolist() if desc]\n",
    "lista_pepr = [desc for desc in df_eventos_descr['PEPR_Descricao'].values.tolist() if desc]\n",
    "lista_dh = [desc for desc in df_eventos_descr['DH_Descricao'].values.tolist() if desc]\n",
    "\n",
    "# Filtrando eventos \"Reconhecidos\" e \"Não reconhecidos\"\n",
    "df_reconhecido = df_eventos_descr[df_eventos_descr['Status'] == 'Reconhecido']\n",
    "df_nao_reconhecido = df_eventos_descr[df_eventos_descr['Status'] == 'Não reconhecido']\n",
    "\n",
    "# Criar listas para reconhecidos e não reconhecidos, removendo entradas vazias\n",
    "lista_dm_r = [desc for desc in df_reconhecido['DM_Descricao'].values.tolist() if desc]\n",
    "lista_da_r = [desc for desc in df_reconhecido['DA_Descricao'].values.tolist() if desc]\n",
    "lista_pepl_r = [desc for desc in df_reconhecido['PEPL_Descricao'].values.tolist() if desc]\n",
    "lista_pepr_r = [desc for desc in df_reconhecido['PEPR_Descricao'].values.tolist() if desc]\n",
    "lista_dh_r = [desc for desc in df_reconhecido['DH_Descricao'].values.tolist() if desc]\n",
    "\n",
    "lista_dm_n = [desc for desc in df_nao_reconhecido['DM_Descricao'].values.tolist() if desc]\n",
    "lista_da_n = [desc for desc in df_nao_reconhecido['DA_Descricao'].values.tolist() if desc]\n",
    "lista_pepl_n = [desc for desc in df_nao_reconhecido['PEPL_Descricao'].values.tolist() if desc]\n",
    "lista_pepr_n = [desc for desc in df_nao_reconhecido['PEPR_Descricao'].values.tolist() if desc]\n",
    "lista_dh_n = [desc for desc in df_nao_reconhecido['DH_Descricao'].values.tolist() if desc]\n",
    "\n",
    "# Concatenando listas usando itertools.chain\n",
    "lista_tudo = list(itertools.chain(lista_dm, lista_da, lista_pepl, lista_pepr, lista_dh))\n",
    "lista_rec_ = list(itertools.chain(lista_dm_r, lista_da_r, lista_pepl_r, lista_pepr_r, lista_dh_r))\n",
    "lista_nao_ = list(itertools.chain(lista_dm_n, lista_da_n, lista_pepl_n, lista_pepr_n, lista_dh_n))\n",
    "\n",
    "# Aplicar o pré-processamento\n",
    "lista_rec = [preprocess_text(text) for text in lista_rec_ if text]\n",
    "lista_nao = [preprocess_text(text) for text in lista_nao_ if text]\n"
   ],
   "id": "aaa6f1dc86b410c9",
   "outputs": [
    {
     "name": "stderr",
     "output_type": "stream",
     "text": [
      "[nltk_data] Downloading package stopwords to\n",
      "[nltk_data]     C:\\Users\\Bruna\\AppData\\Roaming\\nltk_data...\n",
      "[nltk_data]   Package stopwords is already up-to-date!\n"
     ]
    }
   ],
   "execution_count": 3
  },
  {
   "metadata": {},
   "cell_type": "markdown",
   "source": "### Modelo BERT",
   "id": "1507be02c2cac928"
  },
  {
   "metadata": {},
   "cell_type": "markdown",
   "source": "#### Tópicos dos eventos reconhecidos",
   "id": "b804680e55bbed60"
  },
  {
   "metadata": {
    "tags": [
     "hide-input"
    ],
    "jupyter": {
     "is_executing": true
    },
    "ExecuteTime": {
     "start_time": "2024-10-26T00:17:20.909537Z"
    }
   },
   "cell_type": "code",
   "source": [
    "# Eventos reconhecidos\n",
    "topic_model_rec = BERTopic()\n",
    "topics_rec, probabilities_rec = topic_model_rec.fit_transform(lista_rec)\n",
    "\n",
    "# Exibir tópicos identificados para eventos reconhecidos\n",
    "topic_info_rec = topic_model_rec.get_topic_info()\n",
    "print(\"\\nTópicos identificados (Reconhecidos):\")\n",
    "print(topic_info_rec)"
   ],
   "id": "b8e5504f355cb563",
   "outputs": [],
   "execution_count": null
  },
  {
   "metadata": {
    "tags": [
     "hide-input"
    ],
    "jupyter": {
     "is_executing": true
    }
   },
   "cell_type": "code",
   "source": [
    "# Exibir as palavras-chave de cada tópico reconhecido\n",
    "for topic_num in topic_info_rec['Topic'].unique():\n",
    "    if topic_num != -1:  # Ignorar outliers\n",
    "        print(f\"\\nTópico {topic_num} (Reconhecidos): {topic_model_rec.get_topic(topic_num)}\")"
   ],
   "id": "70315d89eadc0bc3",
   "outputs": [],
   "execution_count": null
  },
  {
   "metadata": {},
   "cell_type": "markdown",
   "source": "#### Tópicos dos eventos não reconhecidos",
   "id": "30fef4fc72eaec9e"
  },
  {
   "metadata": {
    "tags": [
     "hide-input"
    ],
    "jupyter": {
     "is_executing": true
    }
   },
   "cell_type": "code",
   "source": [
    "topic_model_nao = BERTopic()\n",
    "topics_nao, probabilities_nao = topic_model_nao.fit_transform(lista_nao)\n",
    "\n",
    "# Eventos não reconhecidos\n",
    "topic_info_nao = topic_model_nao.get_topic_info()\n",
    "print(\"\\nTópicos identificados (Não reconhecidos):\")\n",
    "print(topic_info_nao)"
   ],
   "id": "1264d49e3b103d07",
   "outputs": [],
   "execution_count": null
  },
  {
   "metadata": {
    "tags": [
     "hide-input"
    ],
    "jupyter": {
     "is_executing": true
    }
   },
   "cell_type": "code",
   "source": [
    "# Exibir as palavras-chave de cada tópico não reconhecido\n",
    "for topic_num in topic_info_nao['Topic'].unique():\n",
    "    if topic_num != -1:  # Ignorar outliers\n",
    "        print(f\"\\nTópico {topic_num} (Não reconhecidos): {topic_model_nao.get_topic(topic_num)}\")"
   ],
   "id": "ea465da08c77784f",
   "outputs": [],
   "execution_count": null
  },
  {
   "metadata": {},
   "cell_type": "markdown",
   "source": "### Resultados",
   "id": "ef14a74add297fcb"
  },
  {
   "metadata": {},
   "cell_type": "markdown",
   "source": "#### Eventos reconhecidos",
   "id": "1f9f975bcdca91b8"
  },
  {
   "metadata": {
    "tags": [
     "hide-input"
    ],
    "jupyter": {
     "is_executing": true
    }
   },
   "cell_type": "code",
   "source": [
    "# Visualização dos tópicos\n",
    "print(\"\\nVisualizando tópicos dos eventos reconhecidos:\")\n",
    "topic_model_rec.visualize_topics().show()"
   ],
   "id": "50a1136b7ff36526",
   "outputs": [],
   "execution_count": null
  },
  {
   "metadata": {
    "jupyter": {
     "is_executing": true
    },
    "ExecuteTime": {
     "start_time": "2024-10-25T18:36:07.166881Z"
    }
   },
   "cell_type": "markdown",
   "source": "#### Eventos não reconhecidos",
   "id": "ec419cd505966167"
  },
  {
   "metadata": {
    "tags": [
     "hide-input"
    ],
    "jupyter": {
     "is_executing": true
    }
   },
   "cell_type": "code",
   "source": [
    "print(\"\\nVisualizando tópicos dos eventos não reconhecidos:\")\n",
    "topic_model_nao.visualize_topics().show()"
   ],
   "id": "74d3d9c634b0e4c",
   "outputs": [],
   "execution_count": null
  },
  {
   "metadata": {},
   "cell_type": "markdown",
   "source": "Comparar os que erraram e os que acertaram",
   "id": "139dd8cdf17cc776"
  }
 ],
 "metadata": {
  "kernelspec": {
   "display_name": "Python 3",
   "language": "python",
   "name": "python3"
  },
  "language_info": {
   "codemirror_mode": {
    "name": "ipython",
    "version": 2
   },
   "file_extension": ".py",
   "mimetype": "text/x-python",
   "name": "python",
   "nbconvert_exporter": "python",
   "pygments_lexer": "ipython2",
   "version": "2.7.6"
  }
 },
 "nbformat": 4,
 "nbformat_minor": 5
}
