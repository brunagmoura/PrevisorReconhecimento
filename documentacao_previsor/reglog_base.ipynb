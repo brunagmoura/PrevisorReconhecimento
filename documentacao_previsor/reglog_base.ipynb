{
 "cells": [
  {
   "metadata": {},
   "cell_type": "markdown",
   "source": "## Modelos base"
  },
  {
   "cell_type": "markdown",
   "metadata": {
    "id": "K0VbFppwusPJ"
   },
   "source": "### Bibliotecas"
  },
  {
   "cell_type": "code",
   "metadata": {
    "executionInfo": {
     "elapsed": 3506,
     "status": "ok",
     "timestamp": 1729862545130,
     "user": {
      "displayName": "Yuri Oliveira",
      "userId": "01822883940822276242"
     },
     "user_tz": 180
    },
    "id": "Deatpn3-ux8y",
    "tags": [
     "hide-input"
    ],
    "ExecuteTime": {
     "end_time": "2024-10-28T09:35:00.559527Z",
     "start_time": "2024-10-28T09:35:00.052530Z"
    }
   },
   "source": [
    "import pandas as pd\n",
    "import seaborn as sns\n",
    "import matplotlib.pyplot as plt\n",
    "import warnings\n",
    "from sklearn.model_selection import train_test_split\n",
    "from sklearn.linear_model import LogisticRegression\n",
    "from sklearn.preprocessing import StandardScaler\n",
    "from sklearn.pipeline import Pipeline\n",
    "from sklearn.model_selection import train_test_split, StratifiedKFold\n",
    "from imblearn.over_sampling import SMOTE\n",
    "from sklearn import metrics\n",
    "from sklearn.metrics import ConfusionMatrixDisplay\n",
    "from sklearn.preprocessing import RobustScaler\n",
    "from sklearn.metrics import make_scorer, recall_score\n",
    "from skopt import BayesSearchCV\n",
    "from skopt.space import Categorical, Real\n",
    "import numpy as np\n",
    "from sklearn.exceptions import ConvergenceWarning\n",
    "\n",
    "#Estilizar conteúdo\n",
    "warnings.filterwarnings(\"ignore\", category = ConvergenceWarning)\n",
    "pd.set_option('display.max_rows', None)\n",
    "pd.set_option('display.max_columns', None)\n",
    "pd.set_option('display.float_format', '{:.2f}'.format)\n",
    "\n",
    "def estilo_tabelas(df, max_altura='300px', casas_decimais=3):\n",
    "    return (\n",
    "        df.style.set_table_styles(\n",
    "            [\n",
    "                {'selector': 'thead th', 'props': [('font-size', '12px'), ('text-align', 'center'), ('border-bottom', '2px solid #007BFF')]},\n",
    "                {'selector': 'td', 'props': [('font-size', '10px'), ('text-align', 'center'), ('max-height', '40px'), ('white-space', 'nowrap'), ('text-overflow', 'ellipsis'), ('overflow', 'hidden'), ('max-width', '100px')]},\n",
    "                {'selector': 'tr:nth-child(odd)', 'props': [('background-color', '#ffffff')]},\n",
    "                {'selector': 'table', 'props': [('width', '90%'), ('margin-left', 'auto'), ('margin-right', 'auto'), ('border-collapse', 'collapse')]},\n",
    "                {'selector': 'td, th', 'props': [('border', '1px solid #666')]},  # Bordas cinza escuro\n",
    "            ]\n",
    "        ).set_properties(\n",
    "            **{'border-color': 'darkgray', 'border-style': 'solid', 'border-width': '1px'}\n",
    "        ).set_table_attributes(\n",
    "            f'style=\"height:auto; overflow:auto; max-height:{max_altura}; display:block;\"'  \n",
    "        ).format(\n",
    "            precision=casas_decimais  \n",
    "        )\n",
    "    )\n",
    "\n",
    "#Matriz de confusão\n",
    "\n",
    "def exibe_matrizes_confusao(dicio_matrizes):\n",
    "    fig, axn = plt.subplots(1, 4,  sharey=True, figsize=(10, 2))\n",
    "    fig.subplots_adjust(left=0, right=1, top=1, bottom=0, wspace=0.5)\n",
    "    for i, ax in enumerate(axn.flat):\n",
    "        k = list(dicio_matrizes)[i]\n",
    "\n",
    "        ax.set_yticklabels(ax.get_yticklabels(), fontsize=8)\n",
    "        ax.set_xticklabels(ax.get_xticklabels(), rotation=45,fontsize=8)\n",
    "        ax.set_title(k,fontsize=8)\n",
    "\n",
    "        sns.heatmap(dicio_matrizes[k], ax=ax,cbar=i==4)\n",
    "        sns.heatmap(dicio_matrizes[k], annot=True, fmt=\"d\", cmap=\"Blues\", ax=ax, cbar=i==4,\n",
    "                xticklabels=['Não Reconhecido', 'Reconhecido'],\n",
    "                yticklabels=['Não Reconhecido', 'Reconhecido'],)"
   ],
   "outputs": [],
   "execution_count": 1
  },
  {
   "cell_type": "markdown",
   "metadata": {
    "id": "0IOdKWLWu64G"
   },
   "source": "### Bases de dados"
  },
  {
   "cell_type": "code",
   "metadata": {
    "colab": {
     "base_uri": "https://localhost:8080/",
     "height": 0
    },
    "executionInfo": {
     "elapsed": 3807,
     "status": "ok",
     "timestamp": 1729862561892,
     "user": {
      "displayName": "Yuri Oliveira",
      "userId": "01822883940822276242"
     },
     "user_tz": 180
    },
    "id": "7olBcW_Zu-p4",
    "outputId": "8c1ee2f3-f02d-422a-e341-cd5ce16ebba8",
    "tags": [
     "hide-input"
    ],
    "ExecuteTime": {
     "end_time": "2024-10-28T09:35:06.045089Z",
     "start_time": "2024-10-28T09:35:00.575817Z"
    }
   },
   "source": [
    "df1 = pd.read_csv(\n",
    "    \"https://raw.githubusercontent.com/brunagmoura/PrevisorReconhecimento/refs/heads/main/df_eventos_2010_2017_modelo1.csv\",\n",
    "    sep=';',\n",
    "    decimal=',',\n",
    ")\n",
    "\n",
    "df2 = pd.read_csv(\n",
    "    \"https://raw.githubusercontent.com/brunagmoura/PrevisorReconhecimento/refs/heads/main/df_eventos_2010_2017_modelo2.csv\",\n",
    "    sep=';',\n",
    "    decimal=',',\n",
    ")\n",
    "\n",
    "df3 = pd.read_csv(\n",
    "    \"https://raw.githubusercontent.com/brunagmoura/PrevisorReconhecimento/refs/heads/main/df_eventos_2018_2024_modelo1.csv\",\n",
    "    sep=';',\n",
    "    decimal=',',\n",
    ")\n",
    "\n",
    "df4 = pd.read_csv(\n",
    "    \"https://raw.githubusercontent.com/brunagmoura/PrevisorReconhecimento/refs/heads/main/df_eventos_2018_2024_modelo2.csv\",\n",
    "    sep=';',\n",
    "    decimal=',',\n",
    ")\n",
    "\n",
    "# Remove nulos\n",
    "df2 = df2[df2['DensidadePop'].notnull()]\n",
    "df4 = df4[df4['DensidadePop'].notnull()]\n",
    "df3 = df3[df3['DOMICILIO_AREARURAL'].notnull()]\n",
    "df4 = df4[df4['DOMICILIO_AREARURAL'].notnull()]\n",
    "\n",
    "# Criar dicionário python com uma descrição para cada conjunto de dados\n",
    "dict_dfs = {\n",
    "    \"Modelo 1 - 2010 a 2017 - agregado\": df1,\n",
    "    \"Modelo 2 - 2010 a 2017 - desagregado\": df2,\n",
    "    \"Modelo 3 - 2018 a 2024 - agregado\": df3,\n",
    "    \"Modelo 4 - 2018 a 2024 - desagregado\": df4,\n",
    "}\n",
    "\n",
    "print(\"Dimensões base de dados variáveis agregadas 2010-2017: \", df1.shape)\n",
    "print(\"Dimensões base de dados variáveis agregadas 2018-2024: \", df2.shape)\n",
    "print(\"Dimensões base de dados variáveis desagregadas 2010-2017: \",df3.shape)\n",
    "print(\"Dimensões base de dados variáveis desagregadas 2018-2024: \",df4.shape)"
   ],
   "outputs": [
    {
     "name": "stdout",
     "output_type": "stream",
     "text": [
      "Dimensões base de dados variáveis agregadas 2010-2017:  (13047, 56)\n",
      "Dimensões base de dados variáveis agregadas 2018-2024:  (8600, 117)\n",
      "Dimensões base de dados variáveis desagregadas 2010-2017:  (13170, 61)\n",
      "Dimensões base de dados variáveis desagregadas 2018-2024:  (8275, 122)\n"
     ]
    }
   ],
   "execution_count": 2
  },
  {
   "metadata": {},
   "cell_type": "markdown",
   "source": "### Modelos de regressão logística"
  },
  {
   "cell_type": "markdown",
   "metadata": {
    "id": "itljYlx4IBKK"
   },
   "source": "#### Modelo base"
  },
  {
   "cell_type": "code",
   "metadata": {
    "colab": {
     "base_uri": "https://localhost:8080/",
     "height": 462
    },
    "executionInfo": {
     "elapsed": 6141,
     "status": "ok",
     "timestamp": 1729862575059,
     "user": {
      "displayName": "Yuri Oliveira",
      "userId": "01822883940822276242"
     },
     "user_tz": 180
    },
    "id": "cQ0caIHkxBis",
    "outputId": "377bdd8b-56b6-41bc-bcc1-80a4b03b6acb",
    "tags": [
     "hide-input"
    ],
    "ExecuteTime": {
     "end_time": "2024-10-28T09:35:13.928069Z",
     "start_time": "2024-10-28T09:35:12.791523Z"
    }
   },
   "source": [
    "cf_matrix = dict.fromkeys(dict_dfs.keys())\n",
    "\n",
    "for desc_modelo, df in dict_dfs.items():\n",
    "\n",
    "    # Separa treino/teste\n",
    "    X = df.drop(\"Status\", axis=1)\n",
    "    y = df[\"Status\"]\n",
    "    X_train, X_test, y_train, y_test = train_test_split(X, y, test_size=0.2, random_state=42)\n",
    "\n",
    "    # Pipeline\n",
    "    pipeline = Pipeline(\n",
    "        steps=[\n",
    "            (\"robust_scaler\", RobustScaler()),\n",
    "            (\"log_reg\", LogisticRegression(max_iter=1000, random_state=42, solver=\"liblinear\",\n",
    "                                           dual=False)),\n",
    "        ]\n",
    "    )\n",
    "    pipeline.fit(X_train, y_train)\n",
    "    y_pred = pipeline.predict(X_test)\n",
    "\n",
    "    # Classification report como DataFrame\n",
    "    df_cr = pd.DataFrame(\n",
    "        metrics.classification_report(y_test, y_pred, output_dict=True, target_names=[\"Reconhecido\", \"Não reconhecido\"])\n",
    "    ).transpose()  # Transpor para uma melhor visualização\n",
    "\n",
    "    # Aplicar o estilo personalizado\n",
    "    df_cr_styled = estilo_tabelas(df_cr)\n",
    "\n",
    "    # Exibir o classification report estilizado\n",
    "    print(f'Classification report para {desc_modelo}: \\n')\n",
    "    display(df_cr_styled)  # Usando display() para mostrar o estilo no ambiente Jupyter/Notebooks\n",
    "\n",
    "    # Confusion Matrix usando ConfusionMatrixDisplay.from_estimator\n",
    "    print(f'Matriz de confusão para {desc_modelo}: \\n')\n",
    "    ConfusionMatrixDisplay.from_estimator(\n",
    "        pipeline, X_test, y_test, values_format='d', cmap='Blues', display_labels=['Não Reconhecido', 'Reconhecido']\n",
    "    )\n",
    "    plt.show()  # Mostrar a matriz de confusão"
   ],
   "outputs": [
    {
     "name": "stdout",
     "output_type": "stream",
     "text": [
      "Classification report para Modelo 1 - 2010 a 2017 - agregado: \n",
      "\n"
     ]
    },
    {
     "data": {
      "text/plain": [
       "<pandas.io.formats.style.Styler at 0x11cc586d0>"
      ],
      "text/html": [
       "<style type=\"text/css\">\n",
       "#T_a46ca thead th {\n",
       "  font-size: 12px;\n",
       "  text-align: center;\n",
       "  border-bottom: 2px solid #007BFF;\n",
       "}\n",
       "#T_a46ca td {\n",
       "  font-size: 10px;\n",
       "  text-align: center;\n",
       "  max-height: 40px;\n",
       "  white-space: nowrap;\n",
       "  text-overflow: ellipsis;\n",
       "  overflow: hidden;\n",
       "  max-width: 100px;\n",
       "}\n",
       "#T_a46ca tr:nth-child(odd) {\n",
       "  background-color: #ffffff;\n",
       "}\n",
       "#T_a46ca table {\n",
       "  width: 90%;\n",
       "  margin-left: auto;\n",
       "  margin-right: auto;\n",
       "  border-collapse: collapse;\n",
       "}\n",
       "#T_a46ca td {\n",
       "  border: 1px solid #666;\n",
       "}\n",
       "#T_a46ca  th {\n",
       "  border: 1px solid #666;\n",
       "}\n",
       "#T_a46ca_row0_col0, #T_a46ca_row0_col1, #T_a46ca_row0_col2, #T_a46ca_row0_col3, #T_a46ca_row1_col0, #T_a46ca_row1_col1, #T_a46ca_row1_col2, #T_a46ca_row1_col3, #T_a46ca_row2_col0, #T_a46ca_row2_col1, #T_a46ca_row2_col2, #T_a46ca_row2_col3, #T_a46ca_row3_col0, #T_a46ca_row3_col1, #T_a46ca_row3_col2, #T_a46ca_row3_col3, #T_a46ca_row4_col0, #T_a46ca_row4_col1, #T_a46ca_row4_col2, #T_a46ca_row4_col3 {\n",
       "  border-color: darkgray;\n",
       "  border-style: solid;\n",
       "  border-width: 1px;\n",
       "}\n",
       "</style>\n",
       "<table id=\"T_a46ca\" style=\"height:auto; overflow:auto; max-height:300px; display:block;\">\n",
       "  <thead>\n",
       "    <tr>\n",
       "      <th class=\"blank level0\" >&nbsp;</th>\n",
       "      <th id=\"T_a46ca_level0_col0\" class=\"col_heading level0 col0\" >precision</th>\n",
       "      <th id=\"T_a46ca_level0_col1\" class=\"col_heading level0 col1\" >recall</th>\n",
       "      <th id=\"T_a46ca_level0_col2\" class=\"col_heading level0 col2\" >f1-score</th>\n",
       "      <th id=\"T_a46ca_level0_col3\" class=\"col_heading level0 col3\" >support</th>\n",
       "    </tr>\n",
       "  </thead>\n",
       "  <tbody>\n",
       "    <tr>\n",
       "      <th id=\"T_a46ca_level0_row0\" class=\"row_heading level0 row0\" >Reconhecido</th>\n",
       "      <td id=\"T_a46ca_row0_col0\" class=\"data row0 col0\" >0.286</td>\n",
       "      <td id=\"T_a46ca_row0_col1\" class=\"data row0 col1\" >0.034</td>\n",
       "      <td id=\"T_a46ca_row0_col2\" class=\"data row0 col2\" >0.061</td>\n",
       "      <td id=\"T_a46ca_row0_col3\" class=\"data row0 col3\" >234.000</td>\n",
       "    </tr>\n",
       "    <tr>\n",
       "      <th id=\"T_a46ca_level0_row1\" class=\"row_heading level0 row1\" >Não reconhecido</th>\n",
       "      <td id=\"T_a46ca_row1_col0\" class=\"data row1 col0\" >0.912</td>\n",
       "      <td id=\"T_a46ca_row1_col1\" class=\"data row1 col1\" >0.992</td>\n",
       "      <td id=\"T_a46ca_row1_col2\" class=\"data row1 col2\" >0.950</td>\n",
       "      <td id=\"T_a46ca_row1_col3\" class=\"data row1 col3\" >2376.000</td>\n",
       "    </tr>\n",
       "    <tr>\n",
       "      <th id=\"T_a46ca_level0_row2\" class=\"row_heading level0 row2\" >accuracy</th>\n",
       "      <td id=\"T_a46ca_row2_col0\" class=\"data row2 col0\" >0.906</td>\n",
       "      <td id=\"T_a46ca_row2_col1\" class=\"data row2 col1\" >0.906</td>\n",
       "      <td id=\"T_a46ca_row2_col2\" class=\"data row2 col2\" >0.906</td>\n",
       "      <td id=\"T_a46ca_row2_col3\" class=\"data row2 col3\" >0.906</td>\n",
       "    </tr>\n",
       "    <tr>\n",
       "      <th id=\"T_a46ca_level0_row3\" class=\"row_heading level0 row3\" >macro avg</th>\n",
       "      <td id=\"T_a46ca_row3_col0\" class=\"data row3 col0\" >0.599</td>\n",
       "      <td id=\"T_a46ca_row3_col1\" class=\"data row3 col1\" >0.513</td>\n",
       "      <td id=\"T_a46ca_row3_col2\" class=\"data row3 col2\" >0.506</td>\n",
       "      <td id=\"T_a46ca_row3_col3\" class=\"data row3 col3\" >2610.000</td>\n",
       "    </tr>\n",
       "    <tr>\n",
       "      <th id=\"T_a46ca_level0_row4\" class=\"row_heading level0 row4\" >weighted avg</th>\n",
       "      <td id=\"T_a46ca_row4_col0\" class=\"data row4 col0\" >0.856</td>\n",
       "      <td id=\"T_a46ca_row4_col1\" class=\"data row4 col1\" >0.906</td>\n",
       "      <td id=\"T_a46ca_row4_col2\" class=\"data row4 col2\" >0.871</td>\n",
       "      <td id=\"T_a46ca_row4_col3\" class=\"data row4 col3\" >2610.000</td>\n",
       "    </tr>\n",
       "  </tbody>\n",
       "</table>\n"
      ]
     },
     "metadata": {},
     "output_type": "display_data"
    },
    {
     "name": "stdout",
     "output_type": "stream",
     "text": [
      "Matriz de confusão para Modelo 1 - 2010 a 2017 - agregado: \n",
      "\n"
     ]
    },
    {
     "data": {
      "text/plain": [
       "<Figure size 640x480 with 2 Axes>"
      ],
      "image/png": "[encoded data removed]"
     },
     "metadata": {},
     "output_type": "display_data"
    },
    {
     "name": "stdout",
     "output_type": "stream",
     "text": [
      "Classification report para Modelo 2 - 2010 a 2017 - desagregado: \n",
      "\n"
     ]
    },
    {
     "data": {
      "text/plain": [
       "<pandas.io.formats.style.Styler at 0x11cc58700>"
      ],
      "text/html": [
       "<style type=\"text/css\">\n",
       "#T_51cc6 thead th {\n",
       "  font-size: 12px;\n",
       "  text-align: center;\n",
       "  border-bottom: 2px solid #007BFF;\n",
       "}\n",
       "#T_51cc6 td {\n",
       "  font-size: 10px;\n",
       "  text-align: center;\n",
       "  max-height: 40px;\n",
       "  white-space: nowrap;\n",
       "  text-overflow: ellipsis;\n",
       "  overflow: hidden;\n",
       "  max-width: 100px;\n",
       "}\n",
       "#T_51cc6 tr:nth-child(odd) {\n",
       "  background-color: #ffffff;\n",
       "}\n",
       "#T_51cc6 table {\n",
       "  width: 90%;\n",
       "  margin-left: auto;\n",
       "  margin-right: auto;\n",
       "  border-collapse: collapse;\n",
       "}\n",
       "#T_51cc6 td {\n",
       "  border: 1px solid #666;\n",
       "}\n",
       "#T_51cc6  th {\n",
       "  border: 1px solid #666;\n",
       "}\n",
       "#T_51cc6_row0_col0, #T_51cc6_row0_col1, #T_51cc6_row0_col2, #T_51cc6_row0_col3, #T_51cc6_row1_col0, #T_51cc6_row1_col1, #T_51cc6_row1_col2, #T_51cc6_row1_col3, #T_51cc6_row2_col0, #T_51cc6_row2_col1, #T_51cc6_row2_col2, #T_51cc6_row2_col3, #T_51cc6_row3_col0, #T_51cc6_row3_col1, #T_51cc6_row3_col2, #T_51cc6_row3_col3, #T_51cc6_row4_col0, #T_51cc6_row4_col1, #T_51cc6_row4_col2, #T_51cc6_row4_col3 {\n",
       "  border-color: darkgray;\n",
       "  border-style: solid;\n",
       "  border-width: 1px;\n",
       "}\n",
       "</style>\n",
       "<table id=\"T_51cc6\" style=\"height:auto; overflow:auto; max-height:300px; display:block;\">\n",
       "  <thead>\n",
       "    <tr>\n",
       "      <th class=\"blank level0\" >&nbsp;</th>\n",
       "      <th id=\"T_51cc6_level0_col0\" class=\"col_heading level0 col0\" >precision</th>\n",
       "      <th id=\"T_51cc6_level0_col1\" class=\"col_heading level0 col1\" >recall</th>\n",
       "      <th id=\"T_51cc6_level0_col2\" class=\"col_heading level0 col2\" >f1-score</th>\n",
       "      <th id=\"T_51cc6_level0_col3\" class=\"col_heading level0 col3\" >support</th>\n",
       "    </tr>\n",
       "  </thead>\n",
       "  <tbody>\n",
       "    <tr>\n",
       "      <th id=\"T_51cc6_level0_row0\" class=\"row_heading level0 row0\" >Reconhecido</th>\n",
       "      <td id=\"T_51cc6_row0_col0\" class=\"data row0 col0\" >0.167</td>\n",
       "      <td id=\"T_51cc6_row0_col1\" class=\"data row0 col1\" >0.028</td>\n",
       "      <td id=\"T_51cc6_row0_col2\" class=\"data row0 col2\" >0.048</td>\n",
       "      <td id=\"T_51cc6_row0_col3\" class=\"data row0 col3\" >144.000</td>\n",
       "    </tr>\n",
       "    <tr>\n",
       "      <th id=\"T_51cc6_level0_row1\" class=\"row_heading level0 row1\" >Não reconhecido</th>\n",
       "      <td id=\"T_51cc6_row1_col0\" class=\"data row1 col0\" >0.917</td>\n",
       "      <td id=\"T_51cc6_row1_col1\" class=\"data row1 col1\" >0.987</td>\n",
       "      <td id=\"T_51cc6_row1_col2\" class=\"data row1 col2\" >0.951</td>\n",
       "      <td id=\"T_51cc6_row1_col3\" class=\"data row1 col3\" >1576.000</td>\n",
       "    </tr>\n",
       "    <tr>\n",
       "      <th id=\"T_51cc6_level0_row2\" class=\"row_heading level0 row2\" >accuracy</th>\n",
       "      <td id=\"T_51cc6_row2_col0\" class=\"data row2 col0\" >0.907</td>\n",
       "      <td id=\"T_51cc6_row2_col1\" class=\"data row2 col1\" >0.907</td>\n",
       "      <td id=\"T_51cc6_row2_col2\" class=\"data row2 col2\" >0.907</td>\n",
       "      <td id=\"T_51cc6_row2_col3\" class=\"data row2 col3\" >0.907</td>\n",
       "    </tr>\n",
       "    <tr>\n",
       "      <th id=\"T_51cc6_level0_row3\" class=\"row_heading level0 row3\" >macro avg</th>\n",
       "      <td id=\"T_51cc6_row3_col0\" class=\"data row3 col0\" >0.542</td>\n",
       "      <td id=\"T_51cc6_row3_col1\" class=\"data row3 col1\" >0.508</td>\n",
       "      <td id=\"T_51cc6_row3_col2\" class=\"data row3 col2\" >0.499</td>\n",
       "      <td id=\"T_51cc6_row3_col3\" class=\"data row3 col3\" >1720.000</td>\n",
       "    </tr>\n",
       "    <tr>\n",
       "      <th id=\"T_51cc6_level0_row4\" class=\"row_heading level0 row4\" >weighted avg</th>\n",
       "      <td id=\"T_51cc6_row4_col0\" class=\"data row4 col0\" >0.855</td>\n",
       "      <td id=\"T_51cc6_row4_col1\" class=\"data row4 col1\" >0.907</td>\n",
       "      <td id=\"T_51cc6_row4_col2\" class=\"data row4 col2\" >0.875</td>\n",
       "      <td id=\"T_51cc6_row4_col3\" class=\"data row4 col3\" >1720.000</td>\n",
       "    </tr>\n",
       "  </tbody>\n",
       "</table>\n"
      ]
     },
     "metadata": {},
     "output_type": "display_data"
    },
    {
     "name": "stdout",
     "output_type": "stream",
     "text": [
      "Matriz de confusão para Modelo 2 - 2010 a 2017 - desagregado: \n",
      "\n"
     ]
    },
    {
     "data": {
      "text/plain": [
       "<Figure size 640x480 with 2 Axes>"
      ],
      "image/png": "[encoded data removed]"
     },
     "metadata": {},
     "output_type": "display_data"
    },
    {
     "name": "stdout",
     "output_type": "stream",
     "text": [
      "Classification report para Modelo 3 - 2018 a 2024 - agregado: \n",
      "\n"
     ]
    },
    {
     "data": {
      "text/plain": [
       "<pandas.io.formats.style.Styler at 0x13d892ac0>"
      ],
      "text/html": [
       "<style type=\"text/css\">\n",
       "#T_ba4a6 thead th {\n",
       "  font-size: 12px;\n",
       "  text-align: center;\n",
       "  border-bottom: 2px solid #007BFF;\n",
       "}\n",
       "#T_ba4a6 td {\n",
       "  font-size: 10px;\n",
       "  text-align: center;\n",
       "  max-height: 40px;\n",
       "  white-space: nowrap;\n",
       "  text-overflow: ellipsis;\n",
       "  overflow: hidden;\n",
       "  max-width: 100px;\n",
       "}\n",
       "#T_ba4a6 tr:nth-child(odd) {\n",
       "  background-color: #ffffff;\n",
       "}\n",
       "#T_ba4a6 table {\n",
       "  width: 90%;\n",
       "  margin-left: auto;\n",
       "  margin-right: auto;\n",
       "  border-collapse: collapse;\n",
       "}\n",
       "#T_ba4a6 td {\n",
       "  border: 1px solid #666;\n",
       "}\n",
       "#T_ba4a6  th {\n",
       "  border: 1px solid #666;\n",
       "}\n",
       "#T_ba4a6_row0_col0, #T_ba4a6_row0_col1, #T_ba4a6_row0_col2, #T_ba4a6_row0_col3, #T_ba4a6_row1_col0, #T_ba4a6_row1_col1, #T_ba4a6_row1_col2, #T_ba4a6_row1_col3, #T_ba4a6_row2_col0, #T_ba4a6_row2_col1, #T_ba4a6_row2_col2, #T_ba4a6_row2_col3, #T_ba4a6_row3_col0, #T_ba4a6_row3_col1, #T_ba4a6_row3_col2, #T_ba4a6_row3_col3, #T_ba4a6_row4_col0, #T_ba4a6_row4_col1, #T_ba4a6_row4_col2, #T_ba4a6_row4_col3 {\n",
       "  border-color: darkgray;\n",
       "  border-style: solid;\n",
       "  border-width: 1px;\n",
       "}\n",
       "</style>\n",
       "<table id=\"T_ba4a6\" style=\"height:auto; overflow:auto; max-height:300px; display:block;\">\n",
       "  <thead>\n",
       "    <tr>\n",
       "      <th class=\"blank level0\" >&nbsp;</th>\n",
       "      <th id=\"T_ba4a6_level0_col0\" class=\"col_heading level0 col0\" >precision</th>\n",
       "      <th id=\"T_ba4a6_level0_col1\" class=\"col_heading level0 col1\" >recall</th>\n",
       "      <th id=\"T_ba4a6_level0_col2\" class=\"col_heading level0 col2\" >f1-score</th>\n",
       "      <th id=\"T_ba4a6_level0_col3\" class=\"col_heading level0 col3\" >support</th>\n",
       "    </tr>\n",
       "  </thead>\n",
       "  <tbody>\n",
       "    <tr>\n",
       "      <th id=\"T_ba4a6_level0_row0\" class=\"row_heading level0 row0\" >Reconhecido</th>\n",
       "      <td id=\"T_ba4a6_row0_col0\" class=\"data row0 col0\" >0.750</td>\n",
       "      <td id=\"T_ba4a6_row0_col1\" class=\"data row0 col1\" >0.056</td>\n",
       "      <td id=\"T_ba4a6_row0_col2\" class=\"data row0 col2\" >0.103</td>\n",
       "      <td id=\"T_ba4a6_row0_col3\" class=\"data row0 col3\" >216.000</td>\n",
       "    </tr>\n",
       "    <tr>\n",
       "      <th id=\"T_ba4a6_level0_row1\" class=\"row_heading level0 row1\" >Não reconhecido</th>\n",
       "      <td id=\"T_ba4a6_row1_col0\" class=\"data row1 col0\" >0.922</td>\n",
       "      <td id=\"T_ba4a6_row1_col1\" class=\"data row1 col1\" >0.998</td>\n",
       "      <td id=\"T_ba4a6_row1_col2\" class=\"data row1 col2\" >0.959</td>\n",
       "      <td id=\"T_ba4a6_row1_col3\" class=\"data row1 col3\" >2418.000</td>\n",
       "    </tr>\n",
       "    <tr>\n",
       "      <th id=\"T_ba4a6_level0_row2\" class=\"row_heading level0 row2\" >accuracy</th>\n",
       "      <td id=\"T_ba4a6_row2_col0\" class=\"data row2 col0\" >0.921</td>\n",
       "      <td id=\"T_ba4a6_row2_col1\" class=\"data row2 col1\" >0.921</td>\n",
       "      <td id=\"T_ba4a6_row2_col2\" class=\"data row2 col2\" >0.921</td>\n",
       "      <td id=\"T_ba4a6_row2_col3\" class=\"data row2 col3\" >0.921</td>\n",
       "    </tr>\n",
       "    <tr>\n",
       "      <th id=\"T_ba4a6_level0_row3\" class=\"row_heading level0 row3\" >macro avg</th>\n",
       "      <td id=\"T_ba4a6_row3_col0\" class=\"data row3 col0\" >0.836</td>\n",
       "      <td id=\"T_ba4a6_row3_col1\" class=\"data row3 col1\" >0.527</td>\n",
       "      <td id=\"T_ba4a6_row3_col2\" class=\"data row3 col2\" >0.531</td>\n",
       "      <td id=\"T_ba4a6_row3_col3\" class=\"data row3 col3\" >2634.000</td>\n",
       "    </tr>\n",
       "    <tr>\n",
       "      <th id=\"T_ba4a6_level0_row4\" class=\"row_heading level0 row4\" >weighted avg</th>\n",
       "      <td id=\"T_ba4a6_row4_col0\" class=\"data row4 col0\" >0.908</td>\n",
       "      <td id=\"T_ba4a6_row4_col1\" class=\"data row4 col1\" >0.921</td>\n",
       "      <td id=\"T_ba4a6_row4_col2\" class=\"data row4 col2\" >0.889</td>\n",
       "      <td id=\"T_ba4a6_row4_col3\" class=\"data row4 col3\" >2634.000</td>\n",
       "    </tr>\n",
       "  </tbody>\n",
       "</table>\n"
      ]
     },
     "metadata": {},
     "output_type": "display_data"
    },
    {
     "name": "stdout",
     "output_type": "stream",
     "text": [
      "Matriz de confusão para Modelo 3 - 2018 a 2024 - agregado: \n",
      "\n"
     ]
    },
    {
     "data": {
      "text/plain": [
       "<Figure size 640x480 with 2 Axes>"
      ],
      "image/png": "[encoded data removed]"
     },
     "metadata": {},
     "output_type": "display_data"
    },
    {
     "name": "stdout",
     "output_type": "stream",
     "text": [
      "Classification report para Modelo 4 - 2018 a 2024 - desagregado: \n",
      "\n"
     ]
    },
    {
     "data": {
      "text/plain": [
       "<pandas.io.formats.style.Styler at 0x14d209790>"
      ],
      "text/html": [
       "<style type=\"text/css\">\n",
       "#T_d3be5 thead th {\n",
       "  font-size: 12px;\n",
       "  text-align: center;\n",
       "  border-bottom: 2px solid #007BFF;\n",
       "}\n",
       "#T_d3be5 td {\n",
       "  font-size: 10px;\n",
       "  text-align: center;\n",
       "  max-height: 40px;\n",
       "  white-space: nowrap;\n",
       "  text-overflow: ellipsis;\n",
       "  overflow: hidden;\n",
       "  max-width: 100px;\n",
       "}\n",
       "#T_d3be5 tr:nth-child(odd) {\n",
       "  background-color: #ffffff;\n",
       "}\n",
       "#T_d3be5 table {\n",
       "  width: 90%;\n",
       "  margin-left: auto;\n",
       "  margin-right: auto;\n",
       "  border-collapse: collapse;\n",
       "}\n",
       "#T_d3be5 td {\n",
       "  border: 1px solid #666;\n",
       "}\n",
       "#T_d3be5  th {\n",
       "  border: 1px solid #666;\n",
       "}\n",
       "#T_d3be5_row0_col0, #T_d3be5_row0_col1, #T_d3be5_row0_col2, #T_d3be5_row0_col3, #T_d3be5_row1_col0, #T_d3be5_row1_col1, #T_d3be5_row1_col2, #T_d3be5_row1_col3, #T_d3be5_row2_col0, #T_d3be5_row2_col1, #T_d3be5_row2_col2, #T_d3be5_row2_col3, #T_d3be5_row3_col0, #T_d3be5_row3_col1, #T_d3be5_row3_col2, #T_d3be5_row3_col3, #T_d3be5_row4_col0, #T_d3be5_row4_col1, #T_d3be5_row4_col2, #T_d3be5_row4_col3 {\n",
       "  border-color: darkgray;\n",
       "  border-style: solid;\n",
       "  border-width: 1px;\n",
       "}\n",
       "</style>\n",
       "<table id=\"T_d3be5\" style=\"height:auto; overflow:auto; max-height:300px; display:block;\">\n",
       "  <thead>\n",
       "    <tr>\n",
       "      <th class=\"blank level0\" >&nbsp;</th>\n",
       "      <th id=\"T_d3be5_level0_col0\" class=\"col_heading level0 col0\" >precision</th>\n",
       "      <th id=\"T_d3be5_level0_col1\" class=\"col_heading level0 col1\" >recall</th>\n",
       "      <th id=\"T_d3be5_level0_col2\" class=\"col_heading level0 col2\" >f1-score</th>\n",
       "      <th id=\"T_d3be5_level0_col3\" class=\"col_heading level0 col3\" >support</th>\n",
       "    </tr>\n",
       "  </thead>\n",
       "  <tbody>\n",
       "    <tr>\n",
       "      <th id=\"T_d3be5_level0_row0\" class=\"row_heading level0 row0\" >Reconhecido</th>\n",
       "      <td id=\"T_d3be5_row0_col0\" class=\"data row0 col0\" >0.237</td>\n",
       "      <td id=\"T_d3be5_row0_col1\" class=\"data row0 col1\" >0.128</td>\n",
       "      <td id=\"T_d3be5_row0_col2\" class=\"data row0 col2\" >0.166</td>\n",
       "      <td id=\"T_d3be5_row0_col3\" class=\"data row0 col3\" >149.000</td>\n",
       "    </tr>\n",
       "    <tr>\n",
       "      <th id=\"T_d3be5_level0_row1\" class=\"row_heading level0 row1\" >Não reconhecido</th>\n",
       "      <td id=\"T_d3be5_row1_col0\" class=\"data row1 col0\" >0.917</td>\n",
       "      <td id=\"T_d3be5_row1_col1\" class=\"data row1 col1\" >0.959</td>\n",
       "      <td id=\"T_d3be5_row1_col2\" class=\"data row1 col2\" >0.938</td>\n",
       "      <td id=\"T_d3be5_row1_col3\" class=\"data row1 col3\" >1506.000</td>\n",
       "    </tr>\n",
       "    <tr>\n",
       "      <th id=\"T_d3be5_level0_row2\" class=\"row_heading level0 row2\" >accuracy</th>\n",
       "      <td id=\"T_d3be5_row2_col0\" class=\"data row2 col0\" >0.885</td>\n",
       "      <td id=\"T_d3be5_row2_col1\" class=\"data row2 col1\" >0.885</td>\n",
       "      <td id=\"T_d3be5_row2_col2\" class=\"data row2 col2\" >0.885</td>\n",
       "      <td id=\"T_d3be5_row2_col3\" class=\"data row2 col3\" >0.885</td>\n",
       "    </tr>\n",
       "    <tr>\n",
       "      <th id=\"T_d3be5_level0_row3\" class=\"row_heading level0 row3\" >macro avg</th>\n",
       "      <td id=\"T_d3be5_row3_col0\" class=\"data row3 col0\" >0.577</td>\n",
       "      <td id=\"T_d3be5_row3_col1\" class=\"data row3 col1\" >0.544</td>\n",
       "      <td id=\"T_d3be5_row3_col2\" class=\"data row3 col2\" >0.552</td>\n",
       "      <td id=\"T_d3be5_row3_col3\" class=\"data row3 col3\" >1655.000</td>\n",
       "    </tr>\n",
       "    <tr>\n",
       "      <th id=\"T_d3be5_level0_row4\" class=\"row_heading level0 row4\" >weighted avg</th>\n",
       "      <td id=\"T_d3be5_row4_col0\" class=\"data row4 col0\" >0.856</td>\n",
       "      <td id=\"T_d3be5_row4_col1\" class=\"data row4 col1\" >0.885</td>\n",
       "      <td id=\"T_d3be5_row4_col2\" class=\"data row4 col2\" >0.868</td>\n",
       "      <td id=\"T_d3be5_row4_col3\" class=\"data row4 col3\" >1655.000</td>\n",
       "    </tr>\n",
       "  </tbody>\n",
       "</table>\n"
      ]
     },
     "metadata": {},
     "output_type": "display_data"
    },
    {
     "name": "stdout",
     "output_type": "stream",
     "text": [
      "Matriz de confusão para Modelo 4 - 2018 a 2024 - desagregado: \n",
      "\n"
     ]
    },
    {
     "data": {
      "text/plain": [
       "<Figure size 640x480 with 2 Axes>"
      ],
      "image/png": "[encoded data removed]"
     },
     "metadata": {},
     "output_type": "display_data"
    }
   ],
   "execution_count": 3
  }
 ],
 "metadata": {
  "accelerator": "TPU",
  "colab": {
   "collapsed_sections": [
    "0IOdKWLWu64G"
   ],
   "gpuType": "V28",
   "provenance": []
  },
  "kernelspec": {
   "display_name": ".venv",
   "language": "python",
   "name": "python3"
  },
  "language_info": {
   "codemirror_mode": {
    "name": "ipython",
    "version": 3
   },
   "file_extension": ".py",
   "mimetype": "text/x-python",
   "name": "python",
   "nbconvert_exporter": "python",
   "pygments_lexer": "ipython3",
   "version": "3.12.2"
  }
 },
 "nbformat": 4,
 "nbformat_minor": 0
}
