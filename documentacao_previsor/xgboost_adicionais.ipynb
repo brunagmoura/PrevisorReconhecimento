{
 "cells": [
  {
   "metadata": {},
   "cell_type": "markdown",
   "source": [
    "## Testes adicionais\n",
    "\n",
    "\n",
    "Este caderno tem como objetivo tentar melhorar os resultados obtidos no modelo de variáveis desagregadas para 2018 a 2024."
   ],
   "id": "df4014651174a02e"
  }
 ],
 "metadata": {
  "kernelspec": {
   "display_name": "Python 3",
   "language": "python",
   "name": "python3"
  },
  "language_info": {
   "codemirror_mode": {
    "name": "ipython",
    "version": 2
   },
   "file_extension": ".py",
   "mimetype": "text/x-python",
   "name": "python",
   "nbconvert_exporter": "python",
   "pygments_lexer": "ipython2",
   "version": "2.7.6"
  }
 },
 "nbformat": 4,
 "nbformat_minor": 5
}
